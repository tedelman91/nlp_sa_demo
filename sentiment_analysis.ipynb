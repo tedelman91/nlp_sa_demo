{
 "cells": [
  {
   "cell_type": "code",
   "execution_count": 48,
   "source": [
    "#############################################################setup_env########################################################################\r\n",
    "import tweepy\r\n",
    "from setup import get_creds\r\n",
    "import pandas as pd\r\n",
    "import re\r\n",
    "from textblob import TextBlob\r\n",
    "from nltk.corpus import stopwords\r\n",
    "from collections import Counter\r\n",
    "import matplotlib.pyplot as plt\r\n",
    "\r\n",
    "# secrets setup to retreive twitter api keys \r\n",
    "credentials = get_creds()\r\n",
    "api_key = credentials[\"api_key\"]\r\n",
    "api_secret_key = credentials[\"api_key_secret\"]\r\n",
    "access_token = credentials[\"access_token\"]\r\n",
    "access_token_secret = credentials[\"access_token_secret\"]\r\n",
    "stopwords = stopwords.words(\"english\")"
   ],
   "outputs": [],
   "metadata": {}
  },
  {
   "cell_type": "code",
   "execution_count": 49,
   "source": [
    "#############################################################setup_twitter_and_test#############################################################\r\n",
    "\r\n",
    "# Create The Authenticate Object\r\n",
    "authenticate = tweepy.OAuthHandler(api_key, api_secret_key)\r\n",
    "\r\n",
    "# Set The Access Token & Access Token Secret\r\n",
    "authenticate.set_access_token(access_token, access_token_secret)\r\n",
    "\r\n",
    "# Create The API Object and print tweets from Elon Musk\r\n",
    "print(\"\\n\\nCreate The API Object and print tweets from Elon Musk\\n\")\r\n",
    "api = tweepy.API(authenticate, wait_on_rate_limit = True)\r\n",
    "tweets = api.user_timeline(screen_name = \"elonmusk\", count = 5, tweet_mode = \"extended\")\r\n",
    "for tweet in tweets:\r\n",
    "    print(f\"- {tweet.full_text}\")"
   ],
   "outputs": [
    {
     "output_type": "stream",
     "name": "stdout",
     "text": [
      "\n",
      "\n",
      "Create The API Object and print tweets from Elon Musk\n",
      "\n",
      "- @NewFolderF @dogeofficialceo @BillyM2k 🤣\n",
      "- @BillyM2k Hamster has mad skillz!!\n",
      "- @slashdot This is a serious concern.\n",
      "- @SciGuySpace @Neopork85 @NASASpaceflight We aim to do the most for the least $\n",
      "- Apologies, 10.2 release will be a week from Friday\n"
     ]
    }
   ],
   "metadata": {}
  },
  {
   "cell_type": "code",
   "execution_count": 50,
   "source": [
    "#############################################################data_setup_and_cleaning#########################################################\r\n",
    "\r\n",
    "# Create The API Object and retreive 200 tweets \r\n",
    "tweets = api.user_timeline(screen_name = \"elonmusk\", count = 200, tweet_mode = \"extended\")\r\n",
    "\r\n",
    "#put tweet data into a pandas dataframe to work with  \r\n",
    "df = pd.DataFrame([tweet.full_text for tweet in tweets], columns = [\"tweet\"])\r\n",
    "\r\n",
    "# create function to clean the Data\r\n",
    "def cleantext(text):\r\n",
    "    text = re.sub(r\"@[A-Za-z0-9]+\", \"\", text) # Remove Mentions\r\n",
    "    text = re.sub(r\"#\", \"\", text) # Remove Hashtags Symbol\r\n",
    "    text = re.sub(r\"RT[\\s]+\", \"\", text) # Remove Retweets\r\n",
    "    text = re.sub(r\"https?:\\/\\/\\S+\", \"\", text) # Remove The Hyper Link\r\n",
    "    return text\r\n",
    "\r\n",
    "# Clean The Text\r\n",
    "df[\"tweet\"] = df[\"tweet\"].apply(cleantext)\r\n",
    "\r\n",
    "#remove stopwords \r\n",
    "df[\"tweet\"] =  df[\"tweet\"].apply(lambda x: ' '.join([word for word in x.split() if word not in (stopwords)]))"
   ],
   "outputs": [],
   "metadata": {}
  },
  {
   "cell_type": "code",
   "execution_count": 51,
   "source": [
    "#############################################################nlp_and_sentiment_analysis######################################################\r\n",
    "\r\n",
    "#show top 20 most frequently used words\r\n",
    "word_count = Counter(\" \".join(df['tweet']).split()).most_common(10)\r\n",
    "word_frequency = pd.DataFrame(word_count, columns = ['Word', 'Frequency'])\r\n",
    "print(word_frequency)\r\n",
    "\r\n",
    "# Get The Subjectivity\r\n",
    "    # The polarity is a value ranging between -1 and 1, with -1 being very negative and +1 very positive. \r\n",
    "    # The subjectivity ranges between 0 and 1, and refers to the person’s opinion, emotion, or even judgment. \r\n",
    "    # The higher the number, the more subjective the text is.\r\n",
    "def sentiment_analysis(ds):\r\n",
    "    sentiment = TextBlob(ds[\"tweet\"]).sentiment\r\n",
    "    return pd.Series([sentiment.subjectivity, sentiment.polarity])\r\n",
    "\r\n",
    "# Adding Subjectivity & Polarity\r\n",
    "df[[\"subjectivity\", \"polarity\"]] = df.apply(sentiment_analysis, axis=1)\r\n",
    "#print(df)\r\n",
    "\r\n",
    "\r\n",
    "def analysis_definition(score):\r\n",
    "    if score < 0:\r\n",
    "        return \"Negative\"\r\n",
    "    elif score == 0:\r\n",
    "        return \"Neutral\"\r\n",
    "    else:\r\n",
    "        return \"Positive\"\r\n",
    "    \r\n",
    "# Create a New Analysis Column and add to sentiment dataframe created in sentiment analysis  \r\n",
    "df[\"analysis\"] = df[\"polarity\"].apply(analysis_definition)\r\n",
    "# Print The Data\r\n",
    "print(df)\r\n",
    "\r\n",
    "# If twitter API won't return consistent results you can use the csv in the project for plotting and analysis \r\n",
    "#df = pd.read_csv(\"200_tweets.csv\")\r\n",
    "\r\n",
    "#Explore what positive and negative tweets look like \r\n",
    "positive_tweets = df[df['analysis'] == 'Positive']\r\n",
    "negative_tweets = df[df['analysis'] == 'Negative']\r\n",
    "\r\n",
    "\r\n",
    "print('\\n positive tweets')\r\n",
    "for i, row in positive_tweets[:10].iterrows():\r\n",
    "  print(' -' + row['tweet'])\r\n",
    "\r\n",
    "print('\\n negative tweets')\r\n",
    "for i, row in negative_tweets[:10].iterrows():\r\n",
    "  print(' -' + row['tweet'])\r\n"
   ],
   "outputs": [
    {
     "output_type": "stream",
     "name": "stdout",
     "text": [
      "    Word  Frequency\n",
      "0  &amp;         24\n",
      "1      :         18\n",
      "2  Tesla         15\n",
      "3    FSD         10\n",
      "4   crew          8\n",
      "5   beta          7\n",
      "6     It          7\n",
      "7    The          7\n",
      "8   cars          6\n",
      "9      _          6\n",
      "                                   tweet  subjectivity  polarity  analysis\n",
      "0                                      🤣      0.000000  0.000000   Neutral\n",
      "1                   Hamster mad skillz!!      1.000000 -0.976562  Negative\n",
      "2                  This serious concern.      0.666667 -0.333333  Negative\n",
      "3                         We aim least $      0.400000 -0.300000  Negative\n",
      "4    Apologies, 10.2 release week Friday      0.000000  0.000000   Neutral\n",
      "..                                   ...           ...       ...       ...\n",
      "195                                           0.000000  0.000000   Neutral\n",
      "196               Cybertruck like others      0.000000  0.000000   Neutral\n",
      "197                      That sums well!      0.000000  0.000000   Neutral\n",
      "198                                    🤣      0.000000  0.000000   Neutral\n",
      "199           Thanks! What favorite tea?      0.600000  0.375000  Positive\n",
      "\n",
      "[200 rows x 4 columns]\n",
      "\n",
      " positive tweets\n",
      " -First days probably 100/100, 99, 98, etc.\n",
      " -Wow, lot interest FSD beta! Plan roll version 10.2 midnight Friday, on-ramp ~1000 owners/day, prioritized safety rating.\n",
      " -If tiles super thin, get hot plasma “waterfalling” edges tiles, creating hotspots. That said, I’m entirely convinced couldn’t done several overlapping scales metal sheet insulator scale armor &amp; primary structure.\n",
      " -Noted. You able press mic button &amp; say “bug report …”\n",
      " -Ok\n",
      " -A helpful case consider, roads intersect unusual angles\n",
      " -True\n",
      " -Absolutely! Tesla team rocks 💕\n",
      " -_geoff We use cobalt cars &amp; tiny amounts others (going zero soon), whereas phones &amp; laptops primarily use cobalt\n",
      " -_Stevens_Gr Haha true rocket engine development\n",
      "\n",
      " negative tweets\n",
      " -Hamster mad skillz!!\n",
      " -This serious concern.\n",
      " -We aim least $\n",
      " -And booster used 70m, required awkward half barrel width steel, it’s 69m\n",
      " -_tesla Exactly. Giga Shanghai makes cars export first half quarter, cars far away parts China, cars nearby parts China. Net result crazy wave deliveries end quarter. It tough team, we’re hoping reduce wave Q4 &amp; Q1.\n",
      " -The regulatory process approval offer insurance extremely slow &amp; complex, varying considerably state. Tesla hoping offer real-time (based actual driving history) insurance Texas next month. Probably next year get approval New York.\n",
      " -Yeah, little oven heating food &amp; Starlink wifi\n",
      " -_feed Needs little warming\n",
      " -_nafnlaus Making life multiplanetary extremely hard, impossible, problem\n",
      " -Still basically nothing compared orbital mass flux needed base moon Mars\n"
     ]
    }
   ],
   "metadata": {}
  },
  {
   "cell_type": "code",
   "execution_count": 52,
   "source": [
    "#############################################################analyze_findings###############################################################\r\n",
    "\r\n",
    "\r\n",
    "sentiment_ratio =  len(positive_tweets) / len(negative_tweets)\r\n",
    "print(f\"\\n Since the ratio of positive to negative tweets is {sentiment_ratio}, we can conclude Elon Musk's tweets are primarily positive\")\r\n",
    "\r\n",
    "#plot negative and positive tweets \r\n",
    "plt.figure(figsize=(10, 8))\r\n",
    "\r\n",
    "for i in range(0, df.shape[0]):\r\n",
    "    plt.scatter(df[\"polarity\"][i], df[\"subjectivity\"][i], color = \"Red\")\r\n",
    "\r\n",
    "plt.title(\"Sentiment Analysis\") # Add The Graph Title\r\n",
    "plt.xlabel(\"Polarity\") # Add The X-Label\r\n",
    "plt.ylabel(\"Subjectivity\") # Add The Y-Label\r\n",
    "plt.show() # Showing The Graph\r\n"
   ],
   "outputs": [
    {
     "output_type": "stream",
     "name": "stdout",
     "text": [
      "\n",
      " Since the ratio of positive to negative tweets is 4.222222222222222, we can conclude Elon Musk's tweets are primarily positive\n"
     ]
    },
    {
     "output_type": "display_data",
     "data": {
      "image/png": "[encoded data removed]",
      "text/plain": [
       "<Figure size 720x576 with 1 Axes>"
      ]
     },
     "metadata": {
      "needs_background": "light"
     }
    }
   ],
   "metadata": {}
  }
 ],
 "metadata": {
  "orig_nbformat": 4,
  "language_info": {
   "name": "python",
   "version": "3.9.7",
   "mimetype": "text/x-python",
   "codemirror_mode": {
    "name": "ipython",
    "version": 3
   },
   "pygments_lexer": "ipython3",
   "nbconvert_exporter": "python",
   "file_extension": ".py"
  },
  "kernelspec": {
   "name": "python3",
   "display_name": "Python 3.9.7 64-bit (windows store)"
  },
  "interpreter": {
   "hash": "8c7255c2a637cebc7fb47a3bb5414c8aaa6e294a342742a5bcee8f9e948f2cee"
  }
 },
 "nbformat": 4,
 "nbformat_minor": 2
}