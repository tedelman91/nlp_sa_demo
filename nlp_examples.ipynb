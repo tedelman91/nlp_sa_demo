{
 "cells": [
  {
   "cell_type": "code",
   "execution_count": 1,
   "source": [
    "#seperate all words from a string \r\n",
    "from nltk.tokenize import word_tokenize\r\n",
    "Text = \"Good morning, How are you doing? Are you coming tonight?\"\r\n",
    "Tokenized = word_tokenize(Text)\r\n",
    "print(\"\\n Print the string \\\"{}\\\" as seperate words\".format(Text))\r\n",
    "print(str(Tokenized) + \"\\n\")"
   ],
   "outputs": [
    {
     "output_type": "stream",
     "name": "stdout",
     "text": [
      "\n",
      " Print the string \"Good morning, How are you doing? Are you coming tonight?\" as seperate words\n",
      "['Good', 'morning', ',', 'How', 'are', 'you', 'doing', '?', 'Are', 'you', 'coming', 'tonight', '?']\n",
      "\n"
     ]
    }
   ],
   "metadata": {}
  },
  {
   "cell_type": "code",
   "execution_count": 2,
   "source": [
    "#seperate a paragraph into individual sentences \r\n",
    "from nltk.tokenize import sent_tokenize\r\n",
    "Text = \"Good morning, How are you doing? Are you coming tonight?\"\r\n",
    "Tokenized = sent_tokenize(Text)\r\n",
    "print(\"\\n Print the paragraph \\\"{}\\\" as seperate sentences\".format(Text))\r\n",
    "print(str(Tokenized) + \"\\n\")"
   ],
   "outputs": [
    {
     "output_type": "stream",
     "name": "stdout",
     "text": [
      "\n",
      " Print the paragraph \"Good morning, How are you doing? Are you coming tonight?\" as seperate sentences\n",
      "['Good morning, How are you doing?', 'Are you coming tonight?']\n",
      "\n"
     ]
    }
   ],
   "metadata": {}
  },
  {
   "cell_type": "code",
   "execution_count": 3,
   "source": [
    "#show what stopwords are\r\n",
    "from nltk.corpus import stopwords\r\n",
    "stopwords = stopwords.words(\"english\")\r\n",
    "print(\"Stopwords that are filtered out: \\n\" + str(stopwords) + \"\\n\")"
   ],
   "outputs": [
    {
     "output_type": "stream",
     "name": "stdout",
     "text": [
      "Stopwords that are filtered out: \n",
      "['i', 'me', 'my', 'myself', 'we', 'our', 'ours', 'ourselves', 'you', \"you're\", \"you've\", \"you'll\", \"you'd\", 'your', 'yours', 'yourself', 'yourselves', 'he', 'him', 'his', 'himself', 'she', \"she's\", 'her', 'hers', 'herself', 'it', \"it's\", 'its', 'itself', 'they', 'them', 'their', 'theirs', 'themselves', 'what', 'which', 'who', 'whom', 'this', 'that', \"that'll\", 'these', 'those', 'am', 'is', 'are', 'was', 'were', 'be', 'been', 'being', 'have', 'has', 'had', 'having', 'do', 'does', 'did', 'doing', 'a', 'an', 'the', 'and', 'but', 'if', 'or', 'because', 'as', 'until', 'while', 'of', 'at', 'by', 'for', 'with', 'about', 'against', 'between', 'into', 'through', 'during', 'before', 'after', 'above', 'below', 'to', 'from', 'up', 'down', 'in', 'out', 'on', 'off', 'over', 'under', 'again', 'further', 'then', 'once', 'here', 'there', 'when', 'where', 'why', 'how', 'all', 'any', 'both', 'each', 'few', 'more', 'most', 'other', 'some', 'such', 'no', 'nor', 'not', 'only', 'own', 'same', 'so', 'than', 'too', 'very', 's', 't', 'can', 'will', 'just', 'don', \"don't\", 'should', \"should've\", 'now', 'd', 'll', 'm', 'o', 're', 've', 'y', 'ain', 'aren', \"aren't\", 'couldn', \"couldn't\", 'didn', \"didn't\", 'doesn', \"doesn't\", 'hadn', \"hadn't\", 'hasn', \"hasn't\", 'haven', \"haven't\", 'isn', \"isn't\", 'ma', 'mightn', \"mightn't\", 'mustn', \"mustn't\", 'needn', \"needn't\", 'shan', \"shan't\", 'shouldn', \"shouldn't\", 'wasn', \"wasn't\", 'weren', \"weren't\", 'won', \"won't\", 'wouldn', \"wouldn't\"]\n",
      "\n"
     ]
    }
   ],
   "metadata": {}
  },
  {
   "cell_type": "code",
   "execution_count": 4,
   "source": [
    "#seperate stopwords from sentences\r\n",
    "from nltk.corpus import stopwords\r\n",
    "stopwords = stopwords.words(\"english\")\r\n",
    "Text = [\"Don't\", \"you\", \"think\", \"that\", \"was\", \"a\", \"great\", \"movie\", \"we\", \"saw\", \"tonight\", \"?\"]\r\n",
    "nonstop_words = []\r\n",
    "for i in Text:\r\n",
    "   if i not in stopwords:\r\n",
    "       nonstop_words.append(i)\r\n",
    "print(\"\\nPrint the words \\\"{}\\\" without stop words\".format(Text))\r\n",
    "print(str(nonstop_words) + \"\\n\")"
   ],
   "outputs": [
    {
     "output_type": "stream",
     "name": "stdout",
     "text": [
      "\n",
      "Print the words \"[\"Don't\", 'you', 'think', 'that', 'was', 'a', 'great', 'movie', 'we', 'saw', 'tonight', '?']\" without stop words\n",
      "[\"Don't\", 'think', 'great', 'movie', 'saw', 'tonight', '?']\n",
      "\n"
     ]
    }
   ],
   "metadata": {}
  },
  {
   "cell_type": "code",
   "execution_count": 5,
   "source": [
    "#get the stems of words \r\n",
    "from nltk.stem import PorterStemmer\r\n",
    "ps = PorterStemmer()\r\n",
    "words = [\"Loving\", \"Chocolate\", \"Retrieved\", \"Being\"]\r\n",
    "word_stems = []\r\n",
    "for i in words:\r\n",
    "   word_stems.append(ps.stem(i))\r\n",
    "print(\"\\nGet the word stems from \\\"{}\\\" \".format(words))\r\n",
    "print(\"Word stems: \" + str(word_stems) + \"\\n\")"
   ],
   "outputs": [
    {
     "output_type": "stream",
     "name": "stdout",
     "text": [
      "\n",
      "Get the word stems from \"['Loving', 'Chocolate', 'Retrieved', 'Being']\" \n",
      "Word stems: ['love', 'chocol', 'retriev', 'be']\n",
      "\n"
     ]
    }
   ],
   "metadata": {}
  },
  {
   "cell_type": "code",
   "execution_count": 6,
   "source": [
    "#count words \r\n",
    "import nltk\r\n",
    "words = [\"truck\", \"truck\", \"car\", \"boat\", \"train\", \"house\", \"house\", \"house\", \"house\", \"house\"]\r\n",
    "FreqDist = nltk.FreqDist(words)\r\n",
    "print(\"\\nPrint the word counts from \\\"{}\\\" \".format(words))\r\n",
    "for i,j in FreqDist.items():\r\n",
    "   print(i, \"---\", j)\r\n",
    "print(\"\\n\")"
   ],
   "outputs": [
    {
     "output_type": "stream",
     "name": "stdout",
     "text": [
      "\n",
      "Print the word counts from \"['truck', 'truck', 'car', 'boat', 'train', 'house', 'house', 'house', 'house', 'house']\" \n",
      "truck --- 2\n",
      "car --- 1\n",
      "boat --- 1\n",
      "train --- 1\n",
      "house --- 5\n",
      "\n",
      "\n"
     ]
    }
   ],
   "metadata": {}
  },
  {
   "cell_type": "code",
   "execution_count": 7,
   "source": [
    "#fix spelling mistakes \r\n",
    "from textblob import TextBlob\r\n",
    "Text = \"Hhow long does it takde to drived to California?\"\r\n",
    "spelling_mistakes = TextBlob(Text)\r\n",
    "print(\"Incorrect sentence with spelling mistakes: \\\"{}\\\"\".format(Text))\r\n",
    "print(\"Corrected sentence: \" + str(spelling_mistakes.correct()) +\"\\n\")"
   ],
   "outputs": [
    {
     "output_type": "stream",
     "name": "stdout",
     "text": [
      "Incorrect sentence with spelling mistakes: \"Hhow long does it takde to drived to California?\"\n",
      "Corrected sentence: How long does it take to drive to California?\n",
      "\n"
     ]
    }
   ],
   "metadata": {}
  }
 ],
 "metadata": {
  "orig_nbformat": 4,
  "language_info": {
   "name": "python",
   "version": "3.9.7",
   "mimetype": "text/x-python",
   "codemirror_mode": {
    "name": "ipython",
    "version": 3
   },
   "pygments_lexer": "ipython3",
   "nbconvert_exporter": "python",
   "file_extension": ".py"
  },
  "kernelspec": {
   "name": "python3",
   "display_name": "Python 3.9.7 64-bit (windows store)"
  },
  "interpreter": {
   "hash": "8c7255c2a637cebc7fb47a3bb5414c8aaa6e294a342742a5bcee8f9e948f2cee"
  }
 },
 "nbformat": 4,
 "nbformat_minor": 2
}